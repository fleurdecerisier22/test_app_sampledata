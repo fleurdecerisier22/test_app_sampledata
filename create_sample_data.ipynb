{
 "cells": [
  {
   "cell_type": "code",
   "execution_count": 1,
   "id": "8291d556-1e1f-45cf-ba71-59636a256bef",
   "metadata": {},
   "outputs": [],
   "source": [
    "%matplotlib inline"
   ]
  },
  {
   "cell_type": "code",
   "execution_count": 2,
   "id": "939c5926-4527-4e95-9ace-0716087bbfcc",
   "metadata": {},
   "outputs": [],
   "source": [
    "import h5py\n",
    "from glob import glob\n",
    "import numpy as np\n",
    "import pandas as pd"
   ]
  },
  {
   "cell_type": "code",
   "execution_count": 3,
   "id": "60dd7ef1-739a-4135-932b-11de336590dd",
   "metadata": {},
   "outputs": [
    {
     "data": {
      "text/plain": [
       "['app.py',\n",
       " 'apps',\n",
       " 'conf.py',\n",
       " 'config.toml',\n",
       " 'create_sample_data.ipynb',\n",
       " 'LICENSE',\n",
       " 'multiapp.py',\n",
       " 'README.md',\n",
       " 'requirements.txt']"
      ]
     },
     "execution_count": 3,
     "metadata": {},
     "output_type": "execute_result"
    }
   ],
   "source": [
    "glob(\"*\")"
   ]
  },
  {
   "cell_type": "code",
   "execution_count": null,
   "id": "96039094-d8a1-47b2-9a7e-6a7aa4fb8821",
   "metadata": {},
   "outputs": [],
   "source": []
  },
  {
   "cell_type": "code",
   "execution_count": 4,
   "id": "39a5560c-f16c-4d47-82bb-bc67b766cba7",
   "metadata": {},
   "outputs": [],
   "source": [
    "norm = lambda x: np.random.normal(50,10, x)\n",
    "random = lambda x: np.random.rand(x)\n",
    "poisson = lambda x: np.random.poisson(lam=1.0, size=x)"
   ]
  },
  {
   "cell_type": "code",
   "execution_count": 5,
   "id": "c12fe0d5-7d48-4d72-b679-741e1d270a06",
   "metadata": {},
   "outputs": [],
   "source": [
    "viz = lambda x: pd.DataFrame(x).hist()"
   ]
  },
  {
   "cell_type": "code",
   "execution_count": 6,
   "id": "a17cdc45-bfe6-4dac-a1f0-58dc463f47b4",
   "metadata": {},
   "outputs": [
    {
     "data": {
      "text/plain": [
       "array([[<AxesSubplot:title={'center':'0'}>]], dtype=object)"
      ]
     },
     "execution_count": 6,
     "metadata": {},
     "output_type": "execute_result"
    },
    {
     "data": {
      "image/png": "[encoded data removed]",
      "text/plain": [
       "<Figure size 432x288 with 1 Axes>"
      ]
     },
     "metadata": {
      "needs_background": "light"
     },
     "output_type": "display_data"
    }
   ],
   "source": [
    "viz(norm(10000))"
   ]
  },
  {
   "cell_type": "code",
   "execution_count": 7,
   "id": "57b0a492-bb6d-4e00-882b-dce4c6d553df",
   "metadata": {},
   "outputs": [
    {
     "data": {
      "text/plain": [
       "array([[<AxesSubplot:title={'center':'0'}>]], dtype=object)"
      ]
     },
     "execution_count": 7,
     "metadata": {},
     "output_type": "execute_result"
    },
    {
     "data": {
      "image/png": "[encoded data removed]",
      "text/plain": [
       "<Figure size 432x288 with 1 Axes>"
      ]
     },
     "metadata": {
      "needs_background": "light"
     },
     "output_type": "display_data"
    }
   ],
   "source": [
    "viz(poisson(10000))"
   ]
  },
  {
   "cell_type": "code",
   "execution_count": 8,
   "id": "84b1d3df-411a-4013-893b-482545f05d3c",
   "metadata": {},
   "outputs": [
    {
     "data": {
      "text/plain": [
       "array([[<AxesSubplot:title={'center':'0'}>]], dtype=object)"
      ]
     },
     "execution_count": 8,
     "metadata": {},
     "output_type": "execute_result"
    },
    {
     "data": {
      "image/png": "[encoded data removed]",
      "text/plain": [
       "<Figure size 432x288 with 1 Axes>"
      ]
     },
     "metadata": {
      "needs_background": "light"
     },
     "output_type": "display_data"
    }
   ],
   "source": [
    "viz(random(10000))"
   ]
  },
  {
   "cell_type": "code",
   "execution_count": 9,
   "id": "39796c28-e1e5-4672-a43c-1aaa816b97e6",
   "metadata": {},
   "outputs": [],
   "source": [
    "x = 6000000# 5737808"
   ]
  },
  {
   "cell_type": "code",
   "execution_count": 10,
   "id": "24c9ff3c-6a27-43f9-adf0-0b5b225e2e0d",
   "metadata": {},
   "outputs": [],
   "source": [
    "for i in range(5):\n",
    "    with h5py.File( \"apps/__data/sample_data_6000000/sample_{}_{}.h5py\".format(str(x),str(i)), 'w') as f:\n",
    "        np.random.seed(i)\n",
    "        _norm = norm(x)\n",
    "        _poisson = poisson(x)\n",
    "        _random = random(x)\n",
    "        for name, _data in zip([\"norm\",\"poisson\", \"random\"],[_norm,_poisson,_random]):\n",
    "            dataset = f.create_dataset(name, data=_data, shape=(x, 1), compression=\"gzip\")"
   ]
  },
  {
   "cell_type": "code",
   "execution_count": null,
   "id": "416ec0a5-3969-45c5-b725-de9637e0d772",
   "metadata": {},
   "outputs": [],
   "source": []
  },
  {
   "cell_type": "code",
   "execution_count": 11,
   "id": "2100069a-6307-499c-ba32-37db22b9dbb9",
   "metadata": {},
   "outputs": [
    {
     "data": {
      "text/plain": [
       "1500000"
      ]
     },
     "execution_count": 11,
     "metadata": {},
     "output_type": "execute_result"
    }
   ],
   "source": [
    "x"
   ]
  },
  {
   "cell_type": "code",
   "execution_count": 12,
   "id": "5480b7d4-5272-4762-818b-335043f9ef4d",
   "metadata": {},
   "outputs": [],
   "source": [
    "files = glob(\"apps/__data/sample_data_6000000/*\")"
   ]
  },
  {
   "cell_type": "code",
   "execution_count": 13,
   "id": "5888c638-1675-442f-8449-9d4be7b52ff2",
   "metadata": {},
   "outputs": [
    {
     "data": {
      "text/plain": [
       "['apps/__data/sample_data_1500000\\\\sample_1500000_0.h5py',\n",
       " 'apps/__data/sample_data_1500000\\\\sample_1500000_1.h5py',\n",
       " 'apps/__data/sample_data_1500000\\\\sample_1500000_2.h5py',\n",
       " 'apps/__data/sample_data_1500000\\\\sample_1500000_3.h5py',\n",
       " 'apps/__data/sample_data_1500000\\\\sample_1500000_4.h5py']"
      ]
     },
     "execution_count": 13,
     "metadata": {},
     "output_type": "execute_result"
    }
   ],
   "source": [
    "files"
   ]
  },
  {
   "cell_type": "code",
   "execution_count": null,
   "id": "c77945cd-530b-4aee-8e58-bf0f3e513ae2",
   "metadata": {},
   "outputs": [],
   "source": []
  },
  {
   "cell_type": "code",
   "execution_count": 14,
   "id": "56e58205-f3d5-4d84-8441-a7c37f190c0a",
   "metadata": {},
   "outputs": [
    {
     "name": "stdout",
     "output_type": "stream",
     "text": [
      "now 0 norm\n",
      "now 1 norm\n",
      "now 2 norm\n",
      "now 3 norm\n",
      "now 4 norm\n",
      "now 0 poisson\n",
      "now 1 poisson\n",
      "now 2 poisson\n",
      "now 3 poisson\n",
      "now 4 poisson\n",
      "now 0 random\n",
      "now 1 random\n",
      "now 2 random\n",
      "now 3 random\n",
      "now 4 random\n"
     ]
    },
    {
     "name": "stderr",
     "output_type": "stream",
     "text": [
      "C:\\Users\\ASANOH~1\\AppData\\Local\\Temp/ipykernel_25908/787979145.py:4: DeprecationWarning: `np.float` is a deprecated alias for the builtin `float`. To silence this warning, use `float` by itself. Doing this will not modify any behavior and is safe. If you specifically wanted the numpy scalar type, use `np.float64` here.\n",
      "Deprecated in NumPy 1.20; for more details and guidance: https://numpy.org/devdocs/release/1.20.0-notes.html#deprecations\n",
      "  layout = h5py.VirtualLayout(shape=(x*5, 1), dtype=np.float)\n"
     ]
    }
   ],
   "source": [
    "with h5py.File('apps/__data/sample_6000000_vds.h5py', mode='w') as f:\n",
    "    for entry_key in [\"norm\",\"poisson\", \"random\"]:\n",
    "        M_start = 0\n",
    "        layout = h5py.VirtualLayout(shape=(x*5, 1), dtype=np.float)\n",
    "        for fname in files:\n",
    "            year = fname.split(\"\\\\\")[-1].split(\"_\")[-1].split(\".\")[0]\n",
    "            print(\"now {} {}\".format(year, entry_key))\n",
    "            with h5py.File(fname, 'r') as rf:\n",
    "                rf_len = int(rf[entry_key].shape[0])\n",
    "                M_end = M_start + rf_len\n",
    "                vsource = h5py.VirtualSource(fname, entry_key, shape=(rf_len,1))\n",
    "                layout[M_start:M_end:1, :] = vsource\n",
    "                M_start = M_end\n",
    "        f.create_virtual_dataset(entry_key, layout)"
   ]
  },
  {
   "cell_type": "code",
   "execution_count": null,
   "id": "c842c72d-e986-4c89-ae68-34a3db88e06e",
   "metadata": {},
   "outputs": [],
   "source": []
  }
 ],
 "metadata": {
  "kernelspec": {
   "display_name": "Python 3 (ipykernel)",
   "language": "python",
   "name": "python3"
  },
  "language_info": {
   "codemirror_mode": {
    "name": "ipython",
    "version": 3
   },
   "file_extension": ".py",
   "mimetype": "text/x-python",
   "name": "python",
   "nbconvert_exporter": "python",
   "pygments_lexer": "ipython3",
   "version": "3.9.5"
  }
 },
 "nbformat": 4,
 "nbformat_minor": 5
}
